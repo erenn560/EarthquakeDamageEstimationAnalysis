{
 "cells": [
  {
   "cell_type": "markdown",
   "id": "7362c69e",
   "metadata": {},
   "source": [
    "### Gerekli kütüphaneleri yükleme"
   ]
  },
  {
   "cell_type": "code",
   "execution_count": 3,
   "id": "5b8261a9",
   "metadata": {},
   "outputs": [],
   "source": [
    "import pandas as pd\n",
    "from sklearn.model_selection import train_test_split\n",
    "from sklearn.ensemble import RandomForestRegressor\n",
    "from sklearn.cluster import KMeans\n",
    "from sklearn.preprocessing import LabelEncoder\n",
    "from sklearn.metrics import mean_squared_error, mean_absolute_error\n",
    "import matplotlib.pyplot as plt\n",
    "import numpy as np\n"
   ]
  },
  {
   "cell_type": "markdown",
   "id": "e3375864",
   "metadata": {},
   "source": [
    "### Veri setini yükleme"
   ]
  },
  {
   "cell_type": "code",
   "execution_count": 4,
   "id": "95a8e3f7",
   "metadata": {},
   "outputs": [],
   "source": [
    "veri_seti = pd.read_csv('DepremSenaryosu.csv', sep=';')"
   ]
  },
  {
   "cell_type": "markdown",
   "id": "75718883",
   "metadata": {},
   "source": [
    "### Veri setini gösterme"
   ]
  },
  {
   "cell_type": "code",
   "execution_count": 5,
   "id": "2010c767",
   "metadata": {},
   "outputs": [
    {
     "data": {
      "text/html": [
       "<div>\n",
       "<style scoped>\n",
       "    .dataframe tbody tr th:only-of-type {\n",
       "        vertical-align: middle;\n",
       "    }\n",
       "\n",
       "    .dataframe tbody tr th {\n",
       "        vertical-align: top;\n",
       "    }\n",
       "\n",
       "    .dataframe thead th {\n",
       "        text-align: right;\n",
       "    }\n",
       "</style>\n",
       "<table border=\"1\" class=\"dataframe\">\n",
       "  <thead>\n",
       "    <tr style=\"text-align: right;\">\n",
       "      <th></th>\n",
       "      <th>ilce_adi</th>\n",
       "      <th>mahalle_adi</th>\n",
       "      <th>mahalle_koy_uavt</th>\n",
       "      <th>cok_agir_hasarli_bina_sayisi</th>\n",
       "      <th>agir_hasarli_bina_sayisi</th>\n",
       "      <th>orta_hasarli_bina_sayisi</th>\n",
       "      <th>hafif_hasarli_bina_sayisi</th>\n",
       "      <th>can_kaybi_sayisi</th>\n",
       "      <th>agir_yarali_sayisi</th>\n",
       "      <th>hastanede_tedavi_sayisi</th>\n",
       "      <th>hafif_yarali_sayisi</th>\n",
       "      <th>dogalgaz_boru_hasari</th>\n",
       "      <th>icme_suyu_boru_hasari</th>\n",
       "      <th>atik_su_boru_hasari</th>\n",
       "      <th>gecici_barinma</th>\n",
       "    </tr>\n",
       "  </thead>\n",
       "  <tbody>\n",
       "    <tr>\n",
       "      <th>0</th>\n",
       "      <td>ADALAR</td>\n",
       "      <td>BURGAZADA</td>\n",
       "      <td>40139</td>\n",
       "      <td>54</td>\n",
       "      <td>99</td>\n",
       "      <td>256</td>\n",
       "      <td>241</td>\n",
       "      <td>8</td>\n",
       "      <td>6</td>\n",
       "      <td>24</td>\n",
       "      <td>42</td>\n",
       "      <td>0</td>\n",
       "      <td>0</td>\n",
       "      <td>1</td>\n",
       "      <td>398</td>\n",
       "    </tr>\n",
       "    <tr>\n",
       "      <th>1</th>\n",
       "      <td>ADALAR</td>\n",
       "      <td>HEYBELİADA</td>\n",
       "      <td>40142</td>\n",
       "      <td>101</td>\n",
       "      <td>175</td>\n",
       "      <td>423</td>\n",
       "      <td>393</td>\n",
       "      <td>25</td>\n",
       "      <td>21</td>\n",
       "      <td>66</td>\n",
       "      <td>113</td>\n",
       "      <td>1</td>\n",
       "      <td>1</td>\n",
       "      <td>2</td>\n",
       "      <td>763</td>\n",
       "    </tr>\n",
       "    <tr>\n",
       "      <th>2</th>\n",
       "      <td>ADALAR</td>\n",
       "      <td>KINALIADA</td>\n",
       "      <td>40143</td>\n",
       "      <td>53</td>\n",
       "      <td>97</td>\n",
       "      <td>287</td>\n",
       "      <td>302</td>\n",
       "      <td>5</td>\n",
       "      <td>3</td>\n",
       "      <td>15</td>\n",
       "      <td>27</td>\n",
       "      <td>0</td>\n",
       "      <td>1</td>\n",
       "      <td>1</td>\n",
       "      <td>420</td>\n",
       "    </tr>\n",
       "    <tr>\n",
       "      <th>3</th>\n",
       "      <td>ADALAR</td>\n",
       "      <td>MADEN</td>\n",
       "      <td>40140</td>\n",
       "      <td>104</td>\n",
       "      <td>192</td>\n",
       "      <td>483</td>\n",
       "      <td>484</td>\n",
       "      <td>22</td>\n",
       "      <td>18</td>\n",
       "      <td>64</td>\n",
       "      <td>113</td>\n",
       "      <td>1</td>\n",
       "      <td>1</td>\n",
       "      <td>2</td>\n",
       "      <td>847</td>\n",
       "    </tr>\n",
       "    <tr>\n",
       "      <th>4</th>\n",
       "      <td>ADALAR</td>\n",
       "      <td>NİZAM</td>\n",
       "      <td>40141</td>\n",
       "      <td>101</td>\n",
       "      <td>180</td>\n",
       "      <td>445</td>\n",
       "      <td>422</td>\n",
       "      <td>16</td>\n",
       "      <td>13</td>\n",
       "      <td>48</td>\n",
       "      <td>83</td>\n",
       "      <td>1</td>\n",
       "      <td>2</td>\n",
       "      <td>2</td>\n",
       "      <td>687</td>\n",
       "    </tr>\n",
       "  </tbody>\n",
       "</table>\n",
       "</div>"
      ],
      "text/plain": [
       "  ilce_adi mahalle_adi  mahalle_koy_uavt  cok_agir_hasarli_bina_sayisi  \\\n",
       "0   ADALAR   BURGAZADA             40139                            54   \n",
       "1   ADALAR  HEYBELİADA             40142                           101   \n",
       "2   ADALAR   KINALIADA             40143                            53   \n",
       "3   ADALAR       MADEN             40140                           104   \n",
       "4   ADALAR       NİZAM             40141                           101   \n",
       "\n",
       "   agir_hasarli_bina_sayisi  orta_hasarli_bina_sayisi  \\\n",
       "0                        99                       256   \n",
       "1                       175                       423   \n",
       "2                        97                       287   \n",
       "3                       192                       483   \n",
       "4                       180                       445   \n",
       "\n",
       "   hafif_hasarli_bina_sayisi  can_kaybi_sayisi  agir_yarali_sayisi  \\\n",
       "0                        241                 8                   6   \n",
       "1                        393                25                  21   \n",
       "2                        302                 5                   3   \n",
       "3                        484                22                  18   \n",
       "4                        422                16                  13   \n",
       "\n",
       "   hastanede_tedavi_sayisi  hafif_yarali_sayisi  dogalgaz_boru_hasari  \\\n",
       "0                       24                   42                     0   \n",
       "1                       66                  113                     1   \n",
       "2                       15                   27                     0   \n",
       "3                       64                  113                     1   \n",
       "4                       48                   83                     1   \n",
       "\n",
       "   icme_suyu_boru_hasari  atik_su_boru_hasari  gecici_barinma  \n",
       "0                      0                    1             398  \n",
       "1                      1                    2             763  \n",
       "2                      1                    1             420  \n",
       "3                      1                    2             847  \n",
       "4                      2                    2             687  "
      ]
     },
     "execution_count": 5,
     "metadata": {},
     "output_type": "execute_result"
    }
   ],
   "source": [
    "veri_seti.head()"
   ]
  },
  {
   "cell_type": "markdown",
   "id": "d244ef22",
   "metadata": {},
   "source": [
    "### Kategorik sütunları sayısal değerlere dönüştürme"
   ]
  },
  {
   "cell_type": "code",
   "execution_count": 6,
   "id": "20091c20",
   "metadata": {},
   "outputs": [],
   "source": [
    "label_encoder = LabelEncoder()\n",
    "veri_seti['ilce_adi'] = label_encoder.fit_transform(veri_seti['ilce_adi'])\n",
    "veri_seti['mahalle_adi'] = label_encoder.fit_transform(veri_seti['mahalle_adi'])\n"
   ]
  },
  {
   "cell_type": "markdown",
   "id": "7ffc00e3",
   "metadata": {},
   "source": [
    "### Giriş ve çıkış verilerini ayırma"
   ]
  },
  {
   "cell_type": "code",
   "execution_count": 7,
   "id": "0d279f08",
   "metadata": {},
   "outputs": [],
   "source": [
    "X = veri_seti.drop(['agir_hasarli_bina_sayisi'], axis=1)\n",
    "y = veri_seti['agir_hasarli_bina_sayisi']"
   ]
  },
  {
   "cell_type": "markdown",
   "id": "4abc17ec",
   "metadata": {},
   "source": [
    "### Eğitim ve test verilerine ayırma"
   ]
  },
  {
   "cell_type": "code",
   "execution_count": 8,
   "id": "c9241ecc",
   "metadata": {},
   "outputs": [],
   "source": [
    "X_train, X_test, y_train, y_test = train_test_split(X, y, test_size=0.2, random_state=42)\n"
   ]
  },
  {
   "cell_type": "markdown",
   "id": "a89bac80",
   "metadata": {},
   "source": [
    "### Kümeleme için KMeans modelini eğitme"
   ]
  },
  {
   "cell_type": "code",
   "execution_count": 9,
   "id": "d2308093",
   "metadata": {},
   "outputs": [
    {
     "name": "stderr",
     "output_type": "stream",
     "text": [
      "D:\\Anaconda\\Lib\\site-packages\\sklearn\\cluster\\_kmeans.py:1416: FutureWarning: The default value of `n_init` will change from 10 to 'auto' in 1.4. Set the value of `n_init` explicitly to suppress the warning\n",
      "  super()._check_params_vs_input(X, default_n_init=10)\n"
     ]
    }
   ],
   "source": [
    "kmeans = KMeans(n_clusters=3, random_state=42)\n",
    "veri_seti['Kume'] = kmeans.fit_predict(X)\n"
   ]
  },
  {
   "cell_type": "markdown",
   "id": "6a6479f8",
   "metadata": {},
   "source": [
    "### Test verilerine 'Kume' sütununu ekleme"
   ]
  },
  {
   "cell_type": "code",
   "execution_count": 10,
   "id": "d5b24786",
   "metadata": {},
   "outputs": [],
   "source": [
    "X_test['Kume'] = kmeans.predict(X_test)"
   ]
  },
  {
   "cell_type": "markdown",
   "id": "2feaff4b",
   "metadata": {},
   "source": [
    "### Kümelere göre veriyi ayırma"
   ]
  },
  {
   "cell_type": "code",
   "execution_count": 11,
   "id": "4a5d5491",
   "metadata": {},
   "outputs": [],
   "source": [
    "kume1 = veri_seti[veri_seti['Kume'] == 0]\n",
    "kume2 = veri_seti[veri_seti['Kume'] == 1]\n",
    "kume3 = veri_seti[veri_seti['Kume'] == 2]"
   ]
  },
  {
   "cell_type": "markdown",
   "id": "e95d77cf",
   "metadata": {},
   "source": [
    "### Her küme için RandomForestRegressor modelini eğitme"
   ]
  },
  {
   "cell_type": "code",
   "execution_count": 12,
   "id": "148562d2",
   "metadata": {},
   "outputs": [
    {
     "data": {
      "text/html": [
       "<style>#sk-container-id-1 {color: black;}#sk-container-id-1 pre{padding: 0;}#sk-container-id-1 div.sk-toggleable {background-color: white;}#sk-container-id-1 label.sk-toggleable__label {cursor: pointer;display: block;width: 100%;margin-bottom: 0;padding: 0.3em;box-sizing: border-box;text-align: center;}#sk-container-id-1 label.sk-toggleable__label-arrow:before {content: \"▸\";float: left;margin-right: 0.25em;color: #696969;}#sk-container-id-1 label.sk-toggleable__label-arrow:hover:before {color: black;}#sk-container-id-1 div.sk-estimator:hover label.sk-toggleable__label-arrow:before {color: black;}#sk-container-id-1 div.sk-toggleable__content {max-height: 0;max-width: 0;overflow: hidden;text-align: left;background-color: #f0f8ff;}#sk-container-id-1 div.sk-toggleable__content pre {margin: 0.2em;color: black;border-radius: 0.25em;background-color: #f0f8ff;}#sk-container-id-1 input.sk-toggleable__control:checked~div.sk-toggleable__content {max-height: 200px;max-width: 100%;overflow: auto;}#sk-container-id-1 input.sk-toggleable__control:checked~label.sk-toggleable__label-arrow:before {content: \"▾\";}#sk-container-id-1 div.sk-estimator input.sk-toggleable__control:checked~label.sk-toggleable__label {background-color: #d4ebff;}#sk-container-id-1 div.sk-label input.sk-toggleable__control:checked~label.sk-toggleable__label {background-color: #d4ebff;}#sk-container-id-1 input.sk-hidden--visually {border: 0;clip: rect(1px 1px 1px 1px);clip: rect(1px, 1px, 1px, 1px);height: 1px;margin: -1px;overflow: hidden;padding: 0;position: absolute;width: 1px;}#sk-container-id-1 div.sk-estimator {font-family: monospace;background-color: #f0f8ff;border: 1px dotted black;border-radius: 0.25em;box-sizing: border-box;margin-bottom: 0.5em;}#sk-container-id-1 div.sk-estimator:hover {background-color: #d4ebff;}#sk-container-id-1 div.sk-parallel-item::after {content: \"\";width: 100%;border-bottom: 1px solid gray;flex-grow: 1;}#sk-container-id-1 div.sk-label:hover label.sk-toggleable__label {background-color: #d4ebff;}#sk-container-id-1 div.sk-serial::before {content: \"\";position: absolute;border-left: 1px solid gray;box-sizing: border-box;top: 0;bottom: 0;left: 50%;z-index: 0;}#sk-container-id-1 div.sk-serial {display: flex;flex-direction: column;align-items: center;background-color: white;padding-right: 0.2em;padding-left: 0.2em;position: relative;}#sk-container-id-1 div.sk-item {position: relative;z-index: 1;}#sk-container-id-1 div.sk-parallel {display: flex;align-items: stretch;justify-content: center;background-color: white;position: relative;}#sk-container-id-1 div.sk-item::before, #sk-container-id-1 div.sk-parallel-item::before {content: \"\";position: absolute;border-left: 1px solid gray;box-sizing: border-box;top: 0;bottom: 0;left: 50%;z-index: -1;}#sk-container-id-1 div.sk-parallel-item {display: flex;flex-direction: column;z-index: 1;position: relative;background-color: white;}#sk-container-id-1 div.sk-parallel-item:first-child::after {align-self: flex-end;width: 50%;}#sk-container-id-1 div.sk-parallel-item:last-child::after {align-self: flex-start;width: 50%;}#sk-container-id-1 div.sk-parallel-item:only-child::after {width: 0;}#sk-container-id-1 div.sk-dashed-wrapped {border: 1px dashed gray;margin: 0 0.4em 0.5em 0.4em;box-sizing: border-box;padding-bottom: 0.4em;background-color: white;}#sk-container-id-1 div.sk-label label {font-family: monospace;font-weight: bold;display: inline-block;line-height: 1.2em;}#sk-container-id-1 div.sk-label-container {text-align: center;}#sk-container-id-1 div.sk-container {/* jupyter's `normalize.less` sets `[hidden] { display: none; }` but bootstrap.min.css set `[hidden] { display: none !important; }` so we also need the `!important` here to be able to override the default hidden behavior on the sphinx rendered scikit-learn.org. See: https://github.com/scikit-learn/scikit-learn/issues/21755 */display: inline-block !important;position: relative;}#sk-container-id-1 div.sk-text-repr-fallback {display: none;}</style><div id=\"sk-container-id-1\" class=\"sk-top-container\"><div class=\"sk-text-repr-fallback\"><pre>RandomForestRegressor(random_state=42)</pre><b>In a Jupyter environment, please rerun this cell to show the HTML representation or trust the notebook. <br />On GitHub, the HTML representation is unable to render, please try loading this page with nbviewer.org.</b></div><div class=\"sk-container\" hidden><div class=\"sk-item\"><div class=\"sk-estimator sk-toggleable\"><input class=\"sk-toggleable__control sk-hidden--visually\" id=\"sk-estimator-id-1\" type=\"checkbox\" checked><label for=\"sk-estimator-id-1\" class=\"sk-toggleable__label sk-toggleable__label-arrow\">RandomForestRegressor</label><div class=\"sk-toggleable__content\"><pre>RandomForestRegressor(random_state=42)</pre></div></div></div></div></div>"
      ],
      "text/plain": [
       "RandomForestRegressor(random_state=42)"
      ]
     },
     "execution_count": 12,
     "metadata": {},
     "output_type": "execute_result"
    }
   ],
   "source": [
    "model_kume1 = RandomForestRegressor(n_estimators=100, random_state=42)\n",
    "model_kume1.fit(kume1.drop(['agir_hasarli_bina_sayisi', 'Kume'], axis=1), kume1['agir_hasarli_bina_sayisi'])\n",
    "\n",
    "model_kume2 = RandomForestRegressor(n_estimators=100, random_state=42)\n",
    "model_kume2.fit(kume2.drop(['agir_hasarli_bina_sayisi', 'Kume'], axis=1), kume2['agir_hasarli_bina_sayisi'])\n",
    "\n",
    "model_kume3 = RandomForestRegressor(n_estimators=100, random_state=42)\n",
    "model_kume3.fit(kume3.drop(['agir_hasarli_bina_sayisi', 'Kume'], axis=1), kume3['agir_hasarli_bina_sayisi'])\n"
   ]
  },
  {
   "cell_type": "markdown",
   "id": "75bfdfaf",
   "metadata": {},
   "source": [
    "### Test verilerini kümelere göre ayırma"
   ]
  },
  {
   "cell_type": "code",
   "execution_count": 13,
   "id": "52d267de",
   "metadata": {},
   "outputs": [],
   "source": [
    "X_test_kume1 = X_test[X_test['Kume'] == 0].drop(['Kume'], axis=1)\n",
    "X_test_kume2 = X_test[X_test['Kume'] == 1].drop(['Kume'], axis=1)\n",
    "X_test_kume3 = X_test[X_test['Kume'] == 2].drop(['Kume'], axis=1)"
   ]
  },
  {
   "cell_type": "markdown",
   "id": "772d661e",
   "metadata": {},
   "source": [
    "### Tahmin yapma"
   ]
  },
  {
   "cell_type": "code",
   "execution_count": 14,
   "id": "1e9e75f6",
   "metadata": {},
   "outputs": [],
   "source": [
    "tahmin_kume1 = model_kume1.predict(X_test_kume1)\n",
    "tahmin_kume2 = model_kume2.predict(X_test_kume2)\n",
    "tahmin_kume3 = model_kume3.predict(X_test_kume3)"
   ]
  },
  {
   "cell_type": "markdown",
   "id": "da99f338",
   "metadata": {},
   "source": [
    "### Tahminleri birleştirme"
   ]
  },
  {
   "cell_type": "code",
   "execution_count": 15,
   "id": "2266078c",
   "metadata": {},
   "outputs": [],
   "source": [
    "tahminler = pd.concat([pd.Series(tahmin_kume1, index=X_test_kume1.index),\n",
    "                      pd.Series(tahmin_kume2, index=X_test_kume2.index),\n",
    "                      pd.Series(tahmin_kume3, index=X_test_kume3.index)])\n"
   ]
  },
  {
   "cell_type": "markdown",
   "id": "0bd34390",
   "metadata": {},
   "source": [
    "### Gerçek ve tahmin edilen değerleri birleştirerek bir DataFrame oluşturma"
   ]
  },
  {
   "cell_type": "code",
   "execution_count": 16,
   "id": "4452cebf",
   "metadata": {},
   "outputs": [],
   "source": [
    "tahmin_df = pd.DataFrame({'Gerçek': y_test, 'Tahmin': tahminler})"
   ]
  },
  {
   "cell_type": "markdown",
   "id": "2ea1bf5a",
   "metadata": {},
   "source": [
    "### İlk 10 gözlemi gösterme"
   ]
  },
  {
   "cell_type": "code",
   "execution_count": 17,
   "id": "4176e189",
   "metadata": {},
   "outputs": [
    {
     "name": "stdout",
     "output_type": "stream",
     "text": [
      "    Gerçek  Tahmin\n",
      "23       3    3.40\n",
      "30       4    3.83\n",
      "31       7    6.41\n",
      "33       7    6.68\n",
      "39       9    8.87\n",
      "44      12   11.45\n",
      "49      76   87.25\n",
      "59       1    1.37\n",
      "60     105  100.09\n",
      "63     150  156.94\n"
     ]
    }
   ],
   "source": [
    "print(tahmin_df.head(10))"
   ]
  },
  {
   "cell_type": "markdown",
   "id": "d992b566",
   "metadata": {},
   "source": [
    "### Tahminler ile gerçek değerler arasındaki ilişkiyi gösteren bir grafik oluşturma"
   ]
  },
  {
   "cell_type": "code",
   "execution_count": 18,
   "id": "a8c9bf47",
   "metadata": {},
   "outputs": [
    {
     "data": {
      "image/png": "[encoded data removed]",
      "text/plain": [
       "<Figure size 1000x500 with 1 Axes>"
      ]
     },
     "metadata": {},
     "output_type": "display_data"
    }
   ],
   "source": [
    "plt.figure(figsize=(10, 5))\n",
    "plt.scatter(y_test, tahminler)\n",
    "plt.title('Gerçek Değerler ile Tahminler Arasındaki İlişki')\n",
    "plt.xlabel('Gerçek Değerler')\n",
    "plt.ylabel('Tahminler')\n",
    "plt.show()"
   ]
  },
  {
   "cell_type": "markdown",
   "id": "f00cdddc",
   "metadata": {},
   "source": [
    "### Performans metriklerini hesaplama"
   ]
  },
  {
   "cell_type": "code",
   "execution_count": 19,
   "id": "a1ff5ab3",
   "metadata": {},
   "outputs": [],
   "source": [
    "mae = mean_absolute_error(y_test, tahminler)\n",
    "mse = mean_squared_error(y_test, tahminler)\n",
    "rmse = np.sqrt(mse)"
   ]
  },
  {
   "cell_type": "markdown",
   "id": "2f9e8272",
   "metadata": {},
   "source": [
    "### Performans metriklerini yazdırma"
   ]
  },
  {
   "cell_type": "code",
   "execution_count": 20,
   "id": "63d87aaf",
   "metadata": {},
   "outputs": [
    {
     "name": "stdout",
     "output_type": "stream",
     "text": [
      "MAE: 39.89\n",
      "MSE: 3099.43\n",
      "RMSE: 55.67\n"
     ]
    }
   ],
   "source": [
    "print(f'MAE: {mae:.2f}')\n",
    "print(f'MSE: {mse:.2f}')\n",
    "print(f'RMSE: {rmse:.2f}')"
   ]
  },
  {
   "cell_type": "code",
   "execution_count": null,
   "id": "ffc9d46b",
   "metadata": {},
   "outputs": [],
   "source": []
  }
 ],
 "metadata": {
  "kernelspec": {
   "display_name": "Python 3 (ipykernel)",
   "language": "python",
   "name": "python3"
  },
  "language_info": {
   "codemirror_mode": {
    "name": "ipython",
    "version": 3
   },
   "file_extension": ".py",
   "mimetype": "text/x-python",
   "name": "python",
   "nbconvert_exporter": "python",
   "pygments_lexer": "ipython3",
   "version": "3.11.5"
  }
 },
 "nbformat": 4,
 "nbformat_minor": 5
}
